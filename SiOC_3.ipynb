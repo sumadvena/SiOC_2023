{
  "nbformat": 4,
  "nbformat_minor": 0,
  "metadata": {
    "colab": {
      "provenance": [],
      "authorship_tag": "ABX9TyN9ar/2nTJHhHG5W60YJPCo",
      "include_colab_link": true
    },
    "kernelspec": {
      "name": "python3",
      "display_name": "Python 3"
    },
    "language_info": {
      "name": "python"
    }
  },
  "cells": [
    {
      "cell_type": "markdown",
      "metadata": {
        "id": "view-in-github",
        "colab_type": "text"
      },
      "source": [
        "<a href=\"https://colab.research.google.com/github/sumadvena/SiOC_2023/blob/main/SiOC_3.ipynb\" target=\"_parent\"><img src=\"https://colab.research.google.com/assets/colab-badge.svg\" alt=\"Open In Colab\"/></a>"
      ]
    },
    {
      "cell_type": "code",
      "execution_count": 9,
      "metadata": {
        "id": "dRlZCibFFDFm"
      },
      "outputs": [],
      "source": [
        "import numpy as np\n",
        "import skimage as io\n",
        "from scipy import ndimage\n"
      ]
    },
    {
      "cell_type": "code",
      "source": [
        "#image = io.read(r\"/content/iamge.png\")"
      ],
      "metadata": {
        "id": "Ikwv5Wt9GScn"
      },
      "execution_count": 10,
      "outputs": []
    },
    {
      "cell_type": "code",
      "source": [
        "### KERNELS\n",
        "\n",
        "laplace_filter = np.array(\n",
        "    [[0, 1, 0],\n",
        "     [1, -4, 1],\n",
        "     [0, 1, 0]]\n",
        ")\n",
        "\n",
        "basic_sharpening_filter = np.array(\n",
        "    [[0, -1, 0],\n",
        "     [-1, 5, -1],\n",
        "     [0, -1, 0]]\n",
        ")\n",
        "\n",
        "unsharp_masking = np.array(\n",
        "     [[1, 4, 6, 4, 1],\n",
        "     [4, 16, 24, 16, 4],\n",
        "     [6, 24, -476, 24, 6],\n",
        "     [4, 16, 24, 16, 4],\n",
        "     [1, 4, 6, 4, 1]]\n",
        ") / -256\n",
        "\n",
        "basic_gauss_blur_filter = np. array(\n",
        "    [[1, 2, 1],\n",
        "     [2, 4, 2],\n",
        "     [1, 2, 1]]\n",
        ") / 16\n",
        "\n",
        "extended_gauss_blur_filter = np.array(\n",
        "    [[1, 4, 6, 4, 1],\n",
        "     [4, 16, 24, 16, 4],\n",
        "     [6, 24, 36, 24, 6],\n",
        "     [4, 16, 24, 16, 4],\n",
        "     [1, 4, 6, 4, 1]]\n",
        ") / 256\n",
        "\n"
      ],
      "metadata": {
        "id": "BOLhD2rdHA4c"
      },
      "execution_count": 11,
      "outputs": []
    },
    {
      "cell_type": "code",
      "source": [
        "print(unsharp_masking.sum())"
      ],
      "metadata": {
        "colab": {
          "base_uri": "https://localhost:8080/"
        },
        "id": "5j1lYkwZKIYd",
        "outputId": "c4673018-632a-475d-8150-9b0e638f8df2"
      },
      "execution_count": 13,
      "outputs": [
        {
          "output_type": "stream",
          "name": "stdout",
          "text": [
            "1.0\n"
          ]
        }
      ]
    }
  ]
}