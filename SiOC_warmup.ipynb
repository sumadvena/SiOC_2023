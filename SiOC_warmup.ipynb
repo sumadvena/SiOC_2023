{
  "nbformat": 4,
  "nbformat_minor": 0,
  "metadata": {
    "colab": {
      "provenance": [],
      "mount_file_id": "1lKrpzXMs-zZ9BObH4wQJbmiZoqHf5g0y",
      "authorship_tag": "ABX9TyMOOjIr7i9pwS/Yp6E7ceyE",
      "include_colab_link": true
    },
    "kernelspec": {
      "name": "python3",
      "display_name": "Python 3"
    },
    "language_info": {
      "name": "python"
    }
  },
  "cells": [
    {
      "cell_type": "markdown",
      "metadata": {
        "id": "view-in-github",
        "colab_type": "text"
      },
      "source": [
        "<a href=\"https://colab.research.google.com/github/sumadvena/SiOC_2023/blob/main/SiOC_warmup.ipynb\" target=\"_parent\"><img src=\"https://colab.research.google.com/assets/colab-badge.svg\" alt=\"Open In Colab\"/></a>"
      ]
    },
    {
      "cell_type": "code",
      "execution_count": null,
      "metadata": {
        "id": "4Ps-Li4XVhIL"
      },
      "outputs": [],
      "source": [
        "from PIL import Image\n",
        "\n",
        "tux = Image.open(\"/content/drive/MyDrive/SiOC/Warmup/Tux.jpg\")\n",
        "tux.show()\n",
        "rotatedtux = tux.rotate(180)\n",
        "rotatedtux.save(\"/content/drive/MyDrive/SiOC/Warmup/rtux.jpg\")\n"
      ]
    }
  ]
}